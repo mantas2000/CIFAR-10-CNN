{
  "nbformat": 4,
  "nbformat_minor": 0,
  "metadata": {
    "kernelspec": {
      "display_name": "Python 3",
      "language": "python",
      "name": "python3"
    },
    "language_info": {
      "codemirror_mode": {
        "name": "ipython",
        "version": 2
      },
      "file_extension": ".py",
      "mimetype": "text/x-python",
      "name": "python",
      "nbconvert_exporter": "python",
      "pygments_lexer": "ipython2",
      "version": "2.7.6"
    },
    "colab": {
      "name": "batch-sizes-comparison.ipynb",
      "provenance": []
    },
    "accelerator": "GPU"
  },
  "cells": [
    {
      "cell_type": "markdown",
      "metadata": {
        "collapsed": false,
        "id": "hfnzyvaY4MN-"
      },
      "source": [
        "This first block of text simply contains all the libraries that need importing as well as initialising some variables of this example. You may change the batch_size and epochs variables, but should not change num_classes, img_rows and img_cols as these depend on the dataset being used"
      ]
    },
    {
      "cell_type": "code",
      "metadata": {
        "pycharm": {
          "name": "#%%\n"
        },
        "id": "eE1eAkQo4MOE"
      },
      "source": [
        "from __future__ import print_function\n",
        "import tensorflow.keras as keras\n",
        "import tensorflow.keras.datasets as datasets\n",
        "from tensorflow.keras import models\n",
        "from tensorflow.keras.layers import Dense, GlobalAveragePooling2D\n",
        "from tensorflow.keras import backend as K\n",
        "from matplotlib import pyplot as plt\n",
        "from tensorflow.keras.applications.vgg16 import VGG16\n",
        "from tensorflow.keras.preprocessing.image import ImageDataGenerator\n",
        "\n",
        "batch_sizes = [32, 64, 128, 256, 512]\n",
        "num_classes = 10\n",
        "epochs = 30\n",
        "\n",
        "# input image dimensions\n",
        "img_rows, img_cols = 32, 32"
      ],
      "execution_count": 1,
      "outputs": []
    },
    {
      "cell_type": "markdown",
      "metadata": {
        "collapsed": false,
        "id": "Zv0V2lBn4MOF"
      },
      "source": [
        "The next block of text handles all the data loading (in this case of the CIFAR-10 dataset) and reshaping so that it can be used to train and evaluate the CNN models. Two sets of data are loaded, the training data, used to generate the model, and the test data, used to evaluate if this model is good at making predictions\n",
        "\n",
        "The final set of code of this cell defines the data augmentation pipeline"
      ]
    },
    {
      "cell_type": "code",
      "metadata": {
        "pycharm": {
          "name": "#%%\n"
        },
        "colab": {
          "base_uri": "https://localhost:8080/"
        },
        "id": "qdNwqIZk4MOG",
        "outputId": "c85073fa-06a0-4fec-b777-81bd2285fec5"
      },
      "source": [
        "# the data, split between train and test sets\n",
        "(x_train, y_train), (x_test, y_test) = datasets.cifar10.load_data()\n",
        "\n",
        "if K.image_data_format() == 'channels_first':\n",
        "    x_train = x_train.reshape(x_train.shape[0], 3, img_rows, img_cols)\n",
        "    x_test = x_test.reshape(x_test.shape[0], 3, img_rows, img_cols)\n",
        "    input_shape = (3, img_rows, img_cols)\n",
        "else:\n",
        "    x_train = x_train.reshape(x_train.shape[0], img_rows, img_cols, 3)\n",
        "    x_test = x_test.reshape(x_test.shape[0], img_rows, img_cols, 3)\n",
        "    input_shape = (img_rows, img_cols, 3)\n",
        "\n",
        "x_train = x_train.astype('float32')\n",
        "x_test = x_test.astype('float32')\n",
        "x_train /= 255\n",
        "x_test /= 255\n",
        "print('x_train shape:', x_train.shape)\n",
        "print(x_train.shape[0], 'train samples')\n",
        "print(x_test.shape[0], 'test samples')\n",
        "\n",
        "# convert class vectors to binary class matrices\n",
        "y_train = keras.utils.to_categorical(y_train, num_classes)\n",
        "y_test_orig = y_test\n",
        "y_test = keras.utils.to_categorical(y_test, num_classes)\n",
        "\n",
        "# Enable the data augmentation\n",
        "datagen = ImageDataGenerator(\n",
        "    width_shift_range=0.1,\n",
        "    height_shift_range=0.1,\n",
        "    horizontal_flip=True)\n",
        "\n",
        "# compute quantities required for featurewise normalization\n",
        "datagen.fit(x_train)"
      ],
      "execution_count": 2,
      "outputs": [
        {
          "output_type": "stream",
          "text": [
            "Downloading data from https://www.cs.toronto.edu/~kriz/cifar-10-python.tar.gz\n",
            "170500096/170498071 [==============================] - 11s 0us/step\n",
            "x_train shape: (50000, 32, 32, 3)\n",
            "50000 train samples\n",
            "10000 test samples\n"
          ],
          "name": "stdout"
        }
      ]
    },
    {
      "cell_type": "markdown",
      "metadata": {
        "collapsed": false,
        "id": "mrGtxIti4MOG"
      },
      "source": [
        "This cell loads given pre-defined architecture, that had been trained for a different problem. It removes the last layer (because that would be specific to the original problem, and adds some new layers. This process of adapting a network trained on a different problem is called *Transfer Learning*.\n",
        "\n",
        "The only essential new layer to add is the softmax one (last) that specifies the number of classes of the new dataset."
      ]
    },
    {
      "cell_type": "code",
      "metadata": {
        "pycharm": {
          "name": "#%%\n"
        },
        "id": "EPtEKuBt4MOG"
      },
      "source": [
        "def get_model():\n",
        "    base_model = VGG16(weights='imagenet', include_top=False, input_shape=input_shape)\n",
        "    # add a global spatial average pooling layer\n",
        "    x = base_model.output\n",
        "    x = GlobalAveragePooling2D()(x)\n",
        "    # let's add a fully-connected layer\n",
        "    x = Dense(1024, activation='relu')(x)\n",
        "    # and a logistic layer -- let's say we have 200 classes\n",
        "    predictions = Dense(num_classes, activation='softmax')(x)\n",
        "    model = models.Model(inputs=base_model.input, outputs=predictions)\n",
        "\n",
        "    # The rest of this cell is common to both defining the full architecture or using a pre-trained one\n",
        "    model.compile(loss=keras.losses.categorical_crossentropy,\n",
        "                  optimizer=keras.optimizers.Adamax(),\n",
        "                  metrics=['accuracy'])\n",
        "\n",
        "    return model"
      ],
      "execution_count": 3,
      "outputs": []
    },
    {
      "cell_type": "markdown",
      "metadata": {
        "collapsed": false,
        "id": "qzRqYiif4MOH"
      },
      "source": [
        "This is the block of code that trains models and evaluates their predictive capacity on the test data."
      ]
    },
    {
      "cell_type": "code",
      "metadata": {
        "pycharm": {
          "name": "#%%\n"
        },
        "colab": {
          "base_uri": "https://localhost:8080/"
        },
        "id": "0bMsKlOx4MOH",
        "outputId": "765ea80b-add5-40f8-f566-27d857e4e10c"
      },
      "source": [
        "# Enable Early Stopping to prevent model from overfitting\n",
        "callback=keras.callbacks.EarlyStopping(\n",
        "    monitor='val_loss', min_delta=0, patience=5, verbose=0, mode='auto',\n",
        "    restore_best_weights=True)\n",
        "\n",
        "results = []\n",
        "\n",
        "for batch_size in batch_sizes:\n",
        "    model = get_model()\n",
        "\n",
        "    # Fits the model on batches with real-time data augmentation\n",
        "    history = model.fit(datagen.flow(x_train, y_train,\n",
        "             batch_size=batch_size),\n",
        "             steps_per_epoch=len(x_train) / batch_size,\n",
        "             epochs=epochs,\n",
        "             callbacks=[callback],\n",
        "             validation_data=(x_test, y_test),\n",
        "             verbose=1)\n",
        "\n",
        "    # Evaluate the model on the test data\n",
        "    val_loss = min(history.history['val_loss'])\n",
        "    epoch = history.history['val_loss'].index(val_loss)\n",
        "    val_accuracy = history.history['val_accuracy'][epoch]\n",
        "\n",
        "    # Append model results\n",
        "    results.append([batch_size, '%.2f%%' % (val_accuracy * 100), '%.2f' % val_loss, epoch + 1])\n",
        "\n",
        "    # Display the best accuracy and loss of the CNN architecture\n",
        "    print('Batch size:', results[-1][0], ', Accuracy:', results[-1][1], ', Loss:', results[-1][2])\n",
        "    print()"
      ],
      "execution_count": 4,
      "outputs": [
        {
          "output_type": "stream",
          "text": [
            "Downloading data from https://storage.googleapis.com/tensorflow/keras-applications/vgg16/vgg16_weights_tf_dim_ordering_tf_kernels_notop.h5\n",
            "58892288/58889256 [==============================] - 1s 0us/step\n",
            "Epoch 1/30\n",
            "1562/1562 [==============================] - 140s 70ms/step - loss: 1.9177 - accuracy: 0.2579 - val_loss: 0.9654 - val_accuracy: 0.6637\n",
            "Epoch 2/30\n",
            "1562/1562 [==============================] - 108s 69ms/step - loss: 0.9504 - accuracy: 0.6738 - val_loss: 0.6402 - val_accuracy: 0.7857\n",
            "Epoch 3/30\n",
            "1562/1562 [==============================] - 107s 69ms/step - loss: 0.6920 - accuracy: 0.7711 - val_loss: 0.6224 - val_accuracy: 0.8012\n",
            "Epoch 4/30\n",
            "1562/1562 [==============================] - 107s 68ms/step - loss: 0.5724 - accuracy: 0.8113 - val_loss: 0.7588 - val_accuracy: 0.7787\n",
            "Epoch 5/30\n",
            "1562/1562 [==============================] - 106s 68ms/step - loss: 0.4982 - accuracy: 0.8352 - val_loss: 0.5092 - val_accuracy: 0.8334\n",
            "Epoch 6/30\n",
            "1562/1562 [==============================] - 106s 68ms/step - loss: 0.4365 - accuracy: 0.8555 - val_loss: 0.5192 - val_accuracy: 0.8390\n",
            "Epoch 7/30\n",
            "1562/1562 [==============================] - 106s 68ms/step - loss: 0.3891 - accuracy: 0.8700 - val_loss: 0.4788 - val_accuracy: 0.8501\n",
            "Epoch 8/30\n",
            "1562/1562 [==============================] - 106s 68ms/step - loss: 0.3490 - accuracy: 0.8841 - val_loss: 0.4327 - val_accuracy: 0.8589\n",
            "Epoch 9/30\n",
            "1562/1562 [==============================] - 106s 68ms/step - loss: 0.3074 - accuracy: 0.8964 - val_loss: 0.4774 - val_accuracy: 0.8531\n",
            "Epoch 10/30\n",
            "1562/1562 [==============================] - 106s 68ms/step - loss: 0.2815 - accuracy: 0.9082 - val_loss: 0.4508 - val_accuracy: 0.8670\n",
            "Epoch 11/30\n",
            "1562/1562 [==============================] - 106s 68ms/step - loss: 0.2616 - accuracy: 0.9134 - val_loss: 0.4272 - val_accuracy: 0.8752\n",
            "Epoch 12/30\n",
            "1562/1562 [==============================] - 106s 68ms/step - loss: 0.2393 - accuracy: 0.9214 - val_loss: 0.3969 - val_accuracy: 0.8781\n",
            "Epoch 13/30\n",
            "1562/1562 [==============================] - 106s 68ms/step - loss: 0.2150 - accuracy: 0.9301 - val_loss: 0.4671 - val_accuracy: 0.8598\n",
            "Epoch 14/30\n",
            "1562/1562 [==============================] - 106s 68ms/step - loss: 0.1994 - accuracy: 0.9337 - val_loss: 0.4134 - val_accuracy: 0.8861\n",
            "Epoch 15/30\n",
            "1562/1562 [==============================] - 106s 68ms/step - loss: 0.1842 - accuracy: 0.9385 - val_loss: 0.4004 - val_accuracy: 0.8824\n",
            "Epoch 16/30\n",
            "1562/1562 [==============================] - 105s 67ms/step - loss: 0.1658 - accuracy: 0.9456 - val_loss: 0.4205 - val_accuracy: 0.8808\n",
            "Epoch 17/30\n",
            "1562/1562 [==============================] - 105s 67ms/step - loss: 0.1561 - accuracy: 0.9496 - val_loss: 0.4393 - val_accuracy: 0.8853\n",
            "Batch size: 32 , Accuracy: 87.81% , Loss: 0.40\n",
            "\n",
            "Epoch 1/30\n",
            "781/781 [==============================] - 72s 89ms/step - loss: 1.9189 - accuracy: 0.2520 - val_loss: 1.0023 - val_accuracy: 0.6433\n",
            "Epoch 2/30\n",
            "781/781 [==============================] - 69s 89ms/step - loss: 0.9609 - accuracy: 0.6601 - val_loss: 0.7157 - val_accuracy: 0.7661\n",
            "Epoch 3/30\n",
            "781/781 [==============================] - 69s 89ms/step - loss: 0.7177 - accuracy: 0.7624 - val_loss: 0.6707 - val_accuracy: 0.7790\n",
            "Epoch 4/30\n",
            "781/781 [==============================] - 69s 89ms/step - loss: 0.5889 - accuracy: 0.8053 - val_loss: 0.5295 - val_accuracy: 0.8330\n",
            "Epoch 5/30\n",
            "781/781 [==============================] - 69s 89ms/step - loss: 0.5025 - accuracy: 0.8351 - val_loss: 0.6084 - val_accuracy: 0.8053\n",
            "Epoch 6/30\n",
            "781/781 [==============================] - 69s 89ms/step - loss: 0.4387 - accuracy: 0.8551 - val_loss: 0.5795 - val_accuracy: 0.8285\n",
            "Epoch 7/30\n",
            "781/781 [==============================] - 69s 88ms/step - loss: 0.3990 - accuracy: 0.8692 - val_loss: 0.4697 - val_accuracy: 0.8483\n",
            "Epoch 8/30\n",
            "781/781 [==============================] - 69s 88ms/step - loss: 0.3572 - accuracy: 0.8810 - val_loss: 0.4707 - val_accuracy: 0.8557\n",
            "Epoch 9/30\n",
            "781/781 [==============================] - 69s 88ms/step - loss: 0.3141 - accuracy: 0.8953 - val_loss: 0.4757 - val_accuracy: 0.8554\n",
            "Epoch 10/30\n",
            "781/781 [==============================] - 69s 88ms/step - loss: 0.2872 - accuracy: 0.9063 - val_loss: 0.4904 - val_accuracy: 0.8557\n",
            "Epoch 11/30\n",
            "781/781 [==============================] - 69s 89ms/step - loss: 0.2649 - accuracy: 0.9123 - val_loss: 0.4465 - val_accuracy: 0.8648\n",
            "Epoch 12/30\n",
            "781/781 [==============================] - 69s 88ms/step - loss: 0.2461 - accuracy: 0.9187 - val_loss: 0.4101 - val_accuracy: 0.8759\n",
            "Epoch 13/30\n",
            "781/781 [==============================] - 69s 88ms/step - loss: 0.2143 - accuracy: 0.9286 - val_loss: 0.4308 - val_accuracy: 0.8679\n",
            "Epoch 14/30\n",
            "781/781 [==============================] - 69s 88ms/step - loss: 0.2015 - accuracy: 0.9346 - val_loss: 0.4440 - val_accuracy: 0.8747\n",
            "Epoch 15/30\n",
            "781/781 [==============================] - 69s 88ms/step - loss: 0.1916 - accuracy: 0.9375 - val_loss: 0.4047 - val_accuracy: 0.8789\n",
            "Epoch 16/30\n",
            "781/781 [==============================] - 69s 88ms/step - loss: 0.1760 - accuracy: 0.9412 - val_loss: 0.4213 - val_accuracy: 0.8791\n",
            "Epoch 17/30\n",
            "781/781 [==============================] - 69s 88ms/step - loss: 0.1670 - accuracy: 0.9453 - val_loss: 0.4475 - val_accuracy: 0.8781\n",
            "Epoch 18/30\n",
            "781/781 [==============================] - 69s 88ms/step - loss: 0.1499 - accuracy: 0.9493 - val_loss: 0.4968 - val_accuracy: 0.8672\n",
            "Epoch 19/30\n",
            "781/781 [==============================] - 69s 89ms/step - loss: 0.1454 - accuracy: 0.9521 - val_loss: 0.4643 - val_accuracy: 0.8710\n",
            "Epoch 20/30\n",
            "781/781 [==============================] - 70s 89ms/step - loss: 0.1250 - accuracy: 0.9577 - val_loss: 0.4449 - val_accuracy: 0.8831\n",
            "Batch size: 64 , Accuracy: 87.89% , Loss: 0.40\n",
            "\n",
            "Epoch 1/30\n",
            "390/390 [==============================] - 59s 143ms/step - loss: 2.0842 - accuracy: 0.1849 - val_loss: 1.3189 - val_accuracy: 0.4843\n",
            "Epoch 2/30\n",
            "390/390 [==============================] - 54s 137ms/step - loss: 1.2221 - accuracy: 0.5403 - val_loss: 0.7988 - val_accuracy: 0.7214\n",
            "Epoch 3/30\n",
            "390/390 [==============================] - 54s 137ms/step - loss: 0.8063 - accuracy: 0.7197 - val_loss: 0.7241 - val_accuracy: 0.7528\n",
            "Epoch 4/30\n",
            "390/390 [==============================] - 54s 137ms/step - loss: 0.6376 - accuracy: 0.7830 - val_loss: 0.6303 - val_accuracy: 0.7887\n",
            "Epoch 5/30\n",
            "390/390 [==============================] - 54s 137ms/step - loss: 0.5475 - accuracy: 0.8190 - val_loss: 0.5094 - val_accuracy: 0.8319\n",
            "Epoch 6/30\n",
            "390/390 [==============================] - 54s 137ms/step - loss: 0.4615 - accuracy: 0.8463 - val_loss: 0.4952 - val_accuracy: 0.8429\n",
            "Epoch 7/30\n",
            "390/390 [==============================] - 54s 137ms/step - loss: 0.4341 - accuracy: 0.8548 - val_loss: 0.4778 - val_accuracy: 0.8481\n",
            "Epoch 8/30\n",
            "390/390 [==============================] - 54s 137ms/step - loss: 0.3761 - accuracy: 0.8750 - val_loss: 0.4402 - val_accuracy: 0.8569\n",
            "Epoch 9/30\n",
            "390/390 [==============================] - 54s 138ms/step - loss: 0.3434 - accuracy: 0.8871 - val_loss: 0.4304 - val_accuracy: 0.8600\n",
            "Epoch 10/30\n",
            "390/390 [==============================] - 54s 138ms/step - loss: 0.3175 - accuracy: 0.8931 - val_loss: 0.4312 - val_accuracy: 0.8698\n",
            "Epoch 11/30\n",
            "390/390 [==============================] - 54s 138ms/step - loss: 0.2793 - accuracy: 0.9059 - val_loss: 0.4531 - val_accuracy: 0.8593\n",
            "Epoch 12/30\n",
            "390/390 [==============================] - 54s 138ms/step - loss: 0.2591 - accuracy: 0.9142 - val_loss: 0.4059 - val_accuracy: 0.8765\n",
            "Epoch 13/30\n",
            "390/390 [==============================] - 54s 138ms/step - loss: 0.2439 - accuracy: 0.9192 - val_loss: 0.4314 - val_accuracy: 0.8741\n",
            "Epoch 14/30\n",
            "390/390 [==============================] - 54s 137ms/step - loss: 0.2198 - accuracy: 0.9271 - val_loss: 0.3835 - val_accuracy: 0.8818\n",
            "Epoch 15/30\n",
            "390/390 [==============================] - 54s 138ms/step - loss: 0.1968 - accuracy: 0.9348 - val_loss: 0.4264 - val_accuracy: 0.8745\n",
            "Epoch 16/30\n",
            "390/390 [==============================] - 54s 138ms/step - loss: 0.1771 - accuracy: 0.9412 - val_loss: 0.4217 - val_accuracy: 0.8795\n",
            "Epoch 17/30\n",
            "390/390 [==============================] - 54s 137ms/step - loss: 0.1620 - accuracy: 0.9463 - val_loss: 0.3983 - val_accuracy: 0.8845\n",
            "Epoch 18/30\n",
            "390/390 [==============================] - 54s 137ms/step - loss: 0.1561 - accuracy: 0.9467 - val_loss: 0.4488 - val_accuracy: 0.8749\n",
            "Epoch 19/30\n",
            "390/390 [==============================] - 54s 137ms/step - loss: 0.1355 - accuracy: 0.9550 - val_loss: 0.4353 - val_accuracy: 0.8763\n",
            "Batch size: 128 , Accuracy: 88.18% , Loss: 0.38\n",
            "\n",
            "Epoch 1/30\n",
            "195/195 [==============================] - 52s 239ms/step - loss: 2.2055 - accuracy: 0.1505 - val_loss: 1.6602 - val_accuracy: 0.3409\n",
            "Epoch 2/30\n",
            "195/195 [==============================] - 46s 238ms/step - loss: 1.5196 - accuracy: 0.4090 - val_loss: 1.1149 - val_accuracy: 0.5826\n",
            "Epoch 3/30\n",
            "195/195 [==============================] - 46s 235ms/step - loss: 1.0495 - accuracy: 0.6156 - val_loss: 0.7680 - val_accuracy: 0.7342\n",
            "Epoch 4/30\n",
            "195/195 [==============================] - 46s 233ms/step - loss: 0.7779 - accuracy: 0.7304 - val_loss: 0.7315 - val_accuracy: 0.7603\n",
            "Epoch 5/30\n",
            "195/195 [==============================] - 46s 234ms/step - loss: 0.6426 - accuracy: 0.7823 - val_loss: 0.5343 - val_accuracy: 0.8200\n",
            "Epoch 6/30\n",
            "195/195 [==============================] - 45s 230ms/step - loss: 0.5464 - accuracy: 0.8139 - val_loss: 0.6397 - val_accuracy: 0.7963\n",
            "Epoch 7/30\n",
            "195/195 [==============================] - 46s 234ms/step - loss: 0.4821 - accuracy: 0.8398 - val_loss: 0.5278 - val_accuracy: 0.8267\n",
            "Epoch 8/30\n",
            "195/195 [==============================] - 46s 236ms/step - loss: 0.4425 - accuracy: 0.8515 - val_loss: 0.4695 - val_accuracy: 0.8414\n",
            "Epoch 9/30\n",
            "195/195 [==============================] - 46s 235ms/step - loss: 0.3903 - accuracy: 0.8683 - val_loss: 0.4368 - val_accuracy: 0.8571\n",
            "Epoch 10/30\n",
            "195/195 [==============================] - 45s 232ms/step - loss: 0.3472 - accuracy: 0.8836 - val_loss: 0.4272 - val_accuracy: 0.8569\n",
            "Epoch 11/30\n",
            "195/195 [==============================] - 46s 233ms/step - loss: 0.3226 - accuracy: 0.8919 - val_loss: 0.4132 - val_accuracy: 0.8659\n",
            "Epoch 12/30\n",
            "195/195 [==============================] - 46s 233ms/step - loss: 0.2922 - accuracy: 0.9004 - val_loss: 0.4700 - val_accuracy: 0.8535\n",
            "Epoch 13/30\n",
            "195/195 [==============================] - 46s 233ms/step - loss: 0.2662 - accuracy: 0.9096 - val_loss: 0.4471 - val_accuracy: 0.8562\n",
            "Epoch 14/30\n",
            "195/195 [==============================] - 46s 234ms/step - loss: 0.2434 - accuracy: 0.9173 - val_loss: 0.4476 - val_accuracy: 0.8640\n",
            "Epoch 15/30\n",
            "195/195 [==============================] - 46s 234ms/step - loss: 0.2177 - accuracy: 0.9264 - val_loss: 0.4353 - val_accuracy: 0.8699\n",
            "Epoch 16/30\n",
            "195/195 [==============================] - 46s 236ms/step - loss: 0.2085 - accuracy: 0.9298 - val_loss: 0.4308 - val_accuracy: 0.8699\n",
            "Batch size: 256 , Accuracy: 86.59% , Loss: 0.41\n",
            "\n",
            "Epoch 1/30\n",
            "97/97 [==============================] - 60s 506ms/step - loss: 2.2262 - accuracy: 0.1398 - val_loss: 1.8401 - val_accuracy: 0.2507\n",
            "Epoch 2/30\n",
            "97/97 [==============================] - 44s 445ms/step - loss: 1.8018 - accuracy: 0.2606 - val_loss: 1.4458 - val_accuracy: 0.4231\n",
            "Epoch 3/30\n",
            "97/97 [==============================] - 44s 444ms/step - loss: 1.4268 - accuracy: 0.4385 - val_loss: 1.1488 - val_accuracy: 0.5713\n",
            "Epoch 4/30\n",
            "97/97 [==============================] - 44s 445ms/step - loss: 1.1107 - accuracy: 0.5832 - val_loss: 0.8717 - val_accuracy: 0.6875\n",
            "Epoch 5/30\n",
            "97/97 [==============================] - 44s 449ms/step - loss: 0.9210 - accuracy: 0.6707 - val_loss: 0.8296 - val_accuracy: 0.7104\n",
            "Epoch 6/30\n",
            "97/97 [==============================] - 45s 455ms/step - loss: 0.7658 - accuracy: 0.7307 - val_loss: 0.6349 - val_accuracy: 0.7842\n",
            "Epoch 7/30\n",
            "97/97 [==============================] - 44s 447ms/step - loss: 0.6276 - accuracy: 0.7859 - val_loss: 0.5857 - val_accuracy: 0.8016\n",
            "Epoch 8/30\n",
            "97/97 [==============================] - 44s 445ms/step - loss: 0.5587 - accuracy: 0.8034 - val_loss: 0.5280 - val_accuracy: 0.8192\n",
            "Epoch 9/30\n",
            "97/97 [==============================] - 44s 444ms/step - loss: 0.5042 - accuracy: 0.8273 - val_loss: 0.4835 - val_accuracy: 0.8359\n",
            "Epoch 10/30\n",
            "97/97 [==============================] - 44s 447ms/step - loss: 0.4524 - accuracy: 0.8460 - val_loss: 0.4839 - val_accuracy: 0.8365\n",
            "Epoch 11/30\n",
            "97/97 [==============================] - 43s 443ms/step - loss: 0.4077 - accuracy: 0.8610 - val_loss: 0.4529 - val_accuracy: 0.8471\n",
            "Epoch 12/30\n",
            "97/97 [==============================] - 43s 443ms/step - loss: 0.3780 - accuracy: 0.8693 - val_loss: 0.4644 - val_accuracy: 0.8452\n",
            "Epoch 13/30\n",
            "97/97 [==============================] - 43s 444ms/step - loss: 0.3483 - accuracy: 0.8819 - val_loss: 0.4347 - val_accuracy: 0.8580\n",
            "Epoch 14/30\n",
            "97/97 [==============================] - 43s 444ms/step - loss: 0.3229 - accuracy: 0.8904 - val_loss: 0.4424 - val_accuracy: 0.8562\n",
            "Epoch 15/30\n",
            "97/97 [==============================] - 43s 442ms/step - loss: 0.2878 - accuracy: 0.8997 - val_loss: 0.4704 - val_accuracy: 0.8508\n",
            "Epoch 16/30\n",
            "97/97 [==============================] - 43s 442ms/step - loss: 0.2706 - accuracy: 0.9067 - val_loss: 0.4264 - val_accuracy: 0.8663\n",
            "Epoch 17/30\n",
            "97/97 [==============================] - 44s 446ms/step - loss: 0.2455 - accuracy: 0.9154 - val_loss: 0.4011 - val_accuracy: 0.8710\n",
            "Epoch 18/30\n",
            "97/97 [==============================] - 43s 441ms/step - loss: 0.2247 - accuracy: 0.9227 - val_loss: 0.4288 - val_accuracy: 0.8625\n",
            "Epoch 19/30\n",
            "97/97 [==============================] - 43s 441ms/step - loss: 0.2205 - accuracy: 0.9253 - val_loss: 0.4423 - val_accuracy: 0.8689\n",
            "Epoch 20/30\n",
            "97/97 [==============================] - 44s 446ms/step - loss: 0.1961 - accuracy: 0.9331 - val_loss: 0.4289 - val_accuracy: 0.8710\n",
            "Epoch 21/30\n",
            "97/97 [==============================] - 44s 446ms/step - loss: 0.1704 - accuracy: 0.9419 - val_loss: 0.4321 - val_accuracy: 0.8702\n",
            "Epoch 22/30\n",
            "97/97 [==============================] - 44s 448ms/step - loss: 0.1768 - accuracy: 0.9393 - val_loss: 0.4303 - val_accuracy: 0.8714\n",
            "Batch size: 512 , Accuracy: 87.10% , Loss: 0.40\n",
            "\n"
          ],
          "name": "stdout"
        }
      ]
    },
    {
      "cell_type": "markdown",
      "metadata": {
        "collapsed": false,
        "id": "GJKrHica4MOI"
      },
      "source": [
        "Finally, comparison table of models with different batch sizes"
      ]
    },
    {
      "cell_type": "code",
      "metadata": {
        "pycharm": {
          "name": "#%%\n"
        },
        "colab": {
          "base_uri": "https://localhost:8080/",
          "height": 112
        },
        "id": "KZ0Fl9q44MOI",
        "outputId": "2f9277ea-7dac-4a0d-f57c-ffebd896f132"
      },
      "source": [
        "# Display table\n",
        "plt.figure(figsize=(7,1.5))\n",
        "plt.table(colLabels=['Batch size', 'Accuracy', 'Loss', 'Epochs'],\n",
        "          cellText=results,\n",
        "          cellLoc='center',\n",
        "          loc='center')\n",
        "plt.axis('off')\n",
        "plt.savefig('Batch-sizes-comparison.jpg', bbox_inches='tight', pad_inches=0.1, dpi=200)\n",
        "plt.show()"
      ],
      "execution_count": 5,
      "outputs": [
        {
          "output_type": "display_data",
          "data": {
            "image/png": "[encoded data removed]",
            "text/plain": [
              "<Figure size 504x108 with 1 Axes>"
            ]
          },
          "metadata": {
            "tags": [],
            "needs_background": "light"
          }
        }
      ]
    }
  ]
}